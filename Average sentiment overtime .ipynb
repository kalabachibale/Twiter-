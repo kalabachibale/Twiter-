{
 "cells": [
  {
   "cell_type": "code",
   "execution_count": 1,
   "metadata": {},
   "outputs": [],
   "source": [
    "import pandas as pd "
   ]
  },
  {
   "cell_type": "code",
   "execution_count": 2,
   "metadata": {},
   "outputs": [],
   "source": [
    "Twitter = pd.read_csv('Desktop/Twitter.csv') \n",
    "del Twitter['Unnamed: 0']"
   ]
  },
  {
   "cell_type": "code",
   "execution_count": 3,
   "metadata": {},
   "outputs": [
    {
     "data": {
      "text/html": [
       "<div>\n",
       "<style scoped>\n",
       "    .dataframe tbody tr th:only-of-type {\n",
       "        vertical-align: middle;\n",
       "    }\n",
       "\n",
       "    .dataframe tbody tr th {\n",
       "        vertical-align: top;\n",
       "    }\n",
       "\n",
       "    .dataframe thead th {\n",
       "        text-align: right;\n",
       "    }\n",
       "</style>\n",
       "<table border=\"1\" class=\"dataframe\">\n",
       "  <thead>\n",
       "    <tr style=\"text-align: right;\">\n",
       "      <th></th>\n",
       "      <th>company_name</th>\n",
       "      <th>tweet_id</th>\n",
       "      <th>tweet</th>\n",
       "      <th>in_reply_to</th>\n",
       "      <th>created_at</th>\n",
       "    </tr>\n",
       "  </thead>\n",
       "  <tbody>\n",
       "    <tr>\n",
       "      <th>0</th>\n",
       "      <td>vumatel</td>\n",
       "      <td>9.932078e+17</td>\n",
       "      <td>@ShanduPrint Hi Nkanyiso, we have replied to y...</td>\n",
       "      <td>ShanduPrint</td>\n",
       "      <td>Sun May 06 19:16:00 +0000 2018</td>\n",
       "    </tr>\n",
       "    <tr>\n",
       "      <th>1</th>\n",
       "      <td>vumatel</td>\n",
       "      <td>8.837385e+17</td>\n",
       "      <td>@mamakaonke Hi Ms Dube, do you have the My Vod...</td>\n",
       "      <td>MamaKaOnke</td>\n",
       "      <td>Sat Jul 08 17:24:17 +0000 2017</td>\n",
       "    </tr>\n",
       "    <tr>\n",
       "      <th>2</th>\n",
       "      <td>vumatel</td>\n",
       "      <td>1.056968e+18</td>\n",
       "      <td>@Happydays4life1 Thank you for getting in touc...</td>\n",
       "      <td>Happydays4life1</td>\n",
       "      <td>Mon Oct 29 17:57:43 +0000 2018</td>\n",
       "    </tr>\n",
       "    <tr>\n",
       "      <th>3</th>\n",
       "      <td>vumatel</td>\n",
       "      <td>4.351029e+17</td>\n",
       "      <td>@mike7white Hi Mike, our telephonic chat refer...</td>\n",
       "      <td>mike7white</td>\n",
       "      <td>Sun Feb 16 17:26:18 +0000 2014</td>\n",
       "    </tr>\n",
       "    <tr>\n",
       "      <th>4</th>\n",
       "      <td>vumatel</td>\n",
       "      <td>8.181412e+17</td>\n",
       "      <td>@ph3mi Hey, Omphe. Please give us more info so...</td>\n",
       "      <td>ph3mI</td>\n",
       "      <td>Sun Jan 08 17:04:04 +0000 2017</td>\n",
       "    </tr>\n",
       "  </tbody>\n",
       "</table>\n",
       "</div>"
      ],
      "text/plain": [
       "  company_name      tweet_id  \\\n",
       "0      vumatel  9.932078e+17   \n",
       "1      vumatel  8.837385e+17   \n",
       "2      vumatel  1.056968e+18   \n",
       "3      vumatel  4.351029e+17   \n",
       "4      vumatel  8.181412e+17   \n",
       "\n",
       "                                               tweet      in_reply_to  \\\n",
       "0  @ShanduPrint Hi Nkanyiso, we have replied to y...      ShanduPrint   \n",
       "1  @mamakaonke Hi Ms Dube, do you have the My Vod...       MamaKaOnke   \n",
       "2  @Happydays4life1 Thank you for getting in touc...  Happydays4life1   \n",
       "3  @mike7white Hi Mike, our telephonic chat refer...       mike7white   \n",
       "4  @ph3mi Hey, Omphe. Please give us more info so...            ph3mI   \n",
       "\n",
       "                       created_at  \n",
       "0  Sun May 06 19:16:00 +0000 2018  \n",
       "1  Sat Jul 08 17:24:17 +0000 2017  \n",
       "2  Mon Oct 29 17:57:43 +0000 2018  \n",
       "3  Sun Feb 16 17:26:18 +0000 2014  \n",
       "4  Sun Jan 08 17:04:04 +0000 2017  "
      ]
     },
     "execution_count": 3,
     "metadata": {},
     "output_type": "execute_result"
    }
   ],
   "source": [
    "Twitter.head()"
   ]
  },
  {
   "cell_type": "code",
   "execution_count": 5,
   "metadata": {},
   "outputs": [
    {
     "data": {
      "text/plain": [
       "array(['vumatel', 'mtnzaservice', 'mtnza', 'cellc_support', 'webafrica',\n",
       "       'vodacom111', 'axxessdsl', 'vodacom', 'openserveza', 'cellc',\n",
       "       'telkomza'], dtype=object)"
      ]
     },
     "execution_count": 5,
     "metadata": {},
     "output_type": "execute_result"
    }
   ],
   "source": [
    "Twitter.company_name.unique()"
   ]
  },
  {
   "cell_type": "code",
   "execution_count": 6,
   "metadata": {},
   "outputs": [
    {
     "data": {
      "text/plain": [
       "array(['vumatel', 'mtnzaservice', 'mtnza', 'cellc_support', 'webafrica',\n",
       "       'vodacom111', 'axxessdsl', 'vodacom', 'openserveza', 'cellc',\n",
       "       'telkomza'], dtype=object)"
      ]
     },
     "execution_count": 6,
     "metadata": {},
     "output_type": "execute_result"
    }
   ],
   "source": [
    "Twitter['company_name'].unique()"
   ]
  },
  {
   "cell_type": "code",
   "execution_count": 7,
   "metadata": {},
   "outputs": [],
   "source": [
    "dict_ = {\n",
    "          'vumatel': 'telecom_1',\n",
    "          'mtnzaservice':'telecom_2',\n",
    "          'mtnza':'telecom_3',\n",
    "          'cellc_support':'telecom_4',\n",
    "          'webafrica':'telecom_5',\n",
    "          'vodacom111':'telecom_6',\n",
    "          'axxessdsl':'telecom_7',\n",
    "          'vodacom':'telecom_8',\n",
    "          'openserveza':'telecom_9',\n",
    "          'cellc':'telecom_10',\n",
    "          'telkomza':'telecom_11'\n",
    "        }\n",
    "\n"
   ]
  },
  {
   "cell_type": "code",
   "execution_count": 8,
   "metadata": {},
   "outputs": [],
   "source": [
    "Twitter['telecom'] = [dict_[j] for j in Twitter['company_name']]"
   ]
  },
  {
   "cell_type": "code",
   "execution_count": 9,
   "metadata": {},
   "outputs": [
    {
     "data": {
      "text/html": [
       "<div>\n",
       "<style scoped>\n",
       "    .dataframe tbody tr th:only-of-type {\n",
       "        vertical-align: middle;\n",
       "    }\n",
       "\n",
       "    .dataframe tbody tr th {\n",
       "        vertical-align: top;\n",
       "    }\n",
       "\n",
       "    .dataframe thead th {\n",
       "        text-align: right;\n",
       "    }\n",
       "</style>\n",
       "<table border=\"1\" class=\"dataframe\">\n",
       "  <thead>\n",
       "    <tr style=\"text-align: right;\">\n",
       "      <th></th>\n",
       "      <th>company_name</th>\n",
       "      <th>tweet_id</th>\n",
       "      <th>tweet</th>\n",
       "      <th>in_reply_to</th>\n",
       "      <th>created_at</th>\n",
       "      <th>telecom</th>\n",
       "    </tr>\n",
       "  </thead>\n",
       "  <tbody>\n",
       "    <tr>\n",
       "      <th>0</th>\n",
       "      <td>vumatel</td>\n",
       "      <td>9.932078e+17</td>\n",
       "      <td>@ShanduPrint Hi Nkanyiso, we have replied to y...</td>\n",
       "      <td>ShanduPrint</td>\n",
       "      <td>Sun May 06 19:16:00 +0000 2018</td>\n",
       "      <td>telecom_1</td>\n",
       "    </tr>\n",
       "    <tr>\n",
       "      <th>1</th>\n",
       "      <td>vumatel</td>\n",
       "      <td>8.837385e+17</td>\n",
       "      <td>@mamakaonke Hi Ms Dube, do you have the My Vod...</td>\n",
       "      <td>MamaKaOnke</td>\n",
       "      <td>Sat Jul 08 17:24:17 +0000 2017</td>\n",
       "      <td>telecom_1</td>\n",
       "    </tr>\n",
       "    <tr>\n",
       "      <th>2</th>\n",
       "      <td>vumatel</td>\n",
       "      <td>1.056968e+18</td>\n",
       "      <td>@Happydays4life1 Thank you for getting in touc...</td>\n",
       "      <td>Happydays4life1</td>\n",
       "      <td>Mon Oct 29 17:57:43 +0000 2018</td>\n",
       "      <td>telecom_1</td>\n",
       "    </tr>\n",
       "    <tr>\n",
       "      <th>3</th>\n",
       "      <td>vumatel</td>\n",
       "      <td>4.351029e+17</td>\n",
       "      <td>@mike7white Hi Mike, our telephonic chat refer...</td>\n",
       "      <td>mike7white</td>\n",
       "      <td>Sun Feb 16 17:26:18 +0000 2014</td>\n",
       "      <td>telecom_1</td>\n",
       "    </tr>\n",
       "    <tr>\n",
       "      <th>4</th>\n",
       "      <td>vumatel</td>\n",
       "      <td>8.181412e+17</td>\n",
       "      <td>@ph3mi Hey, Omphe. Please give us more info so...</td>\n",
       "      <td>ph3mI</td>\n",
       "      <td>Sun Jan 08 17:04:04 +0000 2017</td>\n",
       "      <td>telecom_1</td>\n",
       "    </tr>\n",
       "  </tbody>\n",
       "</table>\n",
       "</div>"
      ],
      "text/plain": [
       "  company_name      tweet_id  \\\n",
       "0      vumatel  9.932078e+17   \n",
       "1      vumatel  8.837385e+17   \n",
       "2      vumatel  1.056968e+18   \n",
       "3      vumatel  4.351029e+17   \n",
       "4      vumatel  8.181412e+17   \n",
       "\n",
       "                                               tweet      in_reply_to  \\\n",
       "0  @ShanduPrint Hi Nkanyiso, we have replied to y...      ShanduPrint   \n",
       "1  @mamakaonke Hi Ms Dube, do you have the My Vod...       MamaKaOnke   \n",
       "2  @Happydays4life1 Thank you for getting in touc...  Happydays4life1   \n",
       "3  @mike7white Hi Mike, our telephonic chat refer...       mike7white   \n",
       "4  @ph3mi Hey, Omphe. Please give us more info so...            ph3mI   \n",
       "\n",
       "                       created_at    telecom  \n",
       "0  Sun May 06 19:16:00 +0000 2018  telecom_1  \n",
       "1  Sat Jul 08 17:24:17 +0000 2017  telecom_1  \n",
       "2  Mon Oct 29 17:57:43 +0000 2018  telecom_1  \n",
       "3  Sun Feb 16 17:26:18 +0000 2014  telecom_1  \n",
       "4  Sun Jan 08 17:04:04 +0000 2017  telecom_1  "
      ]
     },
     "execution_count": 9,
     "metadata": {},
     "output_type": "execute_result"
    }
   ],
   "source": [
    "Twitter.head()"
   ]
  },
  {
   "cell_type": "code",
   "execution_count": 10,
   "metadata": {},
   "outputs": [],
   "source": [
    "del Twitter['company_name']"
   ]
  },
  {
   "cell_type": "code",
   "execution_count": 11,
   "metadata": {},
   "outputs": [
    {
     "data": {
      "text/html": [
       "<div>\n",
       "<style scoped>\n",
       "    .dataframe tbody tr th:only-of-type {\n",
       "        vertical-align: middle;\n",
       "    }\n",
       "\n",
       "    .dataframe tbody tr th {\n",
       "        vertical-align: top;\n",
       "    }\n",
       "\n",
       "    .dataframe thead th {\n",
       "        text-align: right;\n",
       "    }\n",
       "</style>\n",
       "<table border=\"1\" class=\"dataframe\">\n",
       "  <thead>\n",
       "    <tr style=\"text-align: right;\">\n",
       "      <th></th>\n",
       "      <th>tweet_id</th>\n",
       "      <th>tweet</th>\n",
       "      <th>in_reply_to</th>\n",
       "      <th>created_at</th>\n",
       "      <th>telecom</th>\n",
       "    </tr>\n",
       "  </thead>\n",
       "  <tbody>\n",
       "    <tr>\n",
       "      <th>0</th>\n",
       "      <td>9.932078e+17</td>\n",
       "      <td>@ShanduPrint Hi Nkanyiso, we have replied to y...</td>\n",
       "      <td>ShanduPrint</td>\n",
       "      <td>Sun May 06 19:16:00 +0000 2018</td>\n",
       "      <td>telecom_1</td>\n",
       "    </tr>\n",
       "    <tr>\n",
       "      <th>1</th>\n",
       "      <td>8.837385e+17</td>\n",
       "      <td>@mamakaonke Hi Ms Dube, do you have the My Vod...</td>\n",
       "      <td>MamaKaOnke</td>\n",
       "      <td>Sat Jul 08 17:24:17 +0000 2017</td>\n",
       "      <td>telecom_1</td>\n",
       "    </tr>\n",
       "    <tr>\n",
       "      <th>2</th>\n",
       "      <td>1.056968e+18</td>\n",
       "      <td>@Happydays4life1 Thank you for getting in touc...</td>\n",
       "      <td>Happydays4life1</td>\n",
       "      <td>Mon Oct 29 17:57:43 +0000 2018</td>\n",
       "      <td>telecom_1</td>\n",
       "    </tr>\n",
       "    <tr>\n",
       "      <th>3</th>\n",
       "      <td>4.351029e+17</td>\n",
       "      <td>@mike7white Hi Mike, our telephonic chat refer...</td>\n",
       "      <td>mike7white</td>\n",
       "      <td>Sun Feb 16 17:26:18 +0000 2014</td>\n",
       "      <td>telecom_1</td>\n",
       "    </tr>\n",
       "    <tr>\n",
       "      <th>4</th>\n",
       "      <td>8.181412e+17</td>\n",
       "      <td>@ph3mi Hey, Omphe. Please give us more info so...</td>\n",
       "      <td>ph3mI</td>\n",
       "      <td>Sun Jan 08 17:04:04 +0000 2017</td>\n",
       "      <td>telecom_1</td>\n",
       "    </tr>\n",
       "  </tbody>\n",
       "</table>\n",
       "</div>"
      ],
      "text/plain": [
       "       tweet_id                                              tweet  \\\n",
       "0  9.932078e+17  @ShanduPrint Hi Nkanyiso, we have replied to y...   \n",
       "1  8.837385e+17  @mamakaonke Hi Ms Dube, do you have the My Vod...   \n",
       "2  1.056968e+18  @Happydays4life1 Thank you for getting in touc...   \n",
       "3  4.351029e+17  @mike7white Hi Mike, our telephonic chat refer...   \n",
       "4  8.181412e+17  @ph3mi Hey, Omphe. Please give us more info so...   \n",
       "\n",
       "       in_reply_to                      created_at    telecom  \n",
       "0      ShanduPrint  Sun May 06 19:16:00 +0000 2018  telecom_1  \n",
       "1       MamaKaOnke  Sat Jul 08 17:24:17 +0000 2017  telecom_1  \n",
       "2  Happydays4life1  Mon Oct 29 17:57:43 +0000 2018  telecom_1  \n",
       "3       mike7white  Sun Feb 16 17:26:18 +0000 2014  telecom_1  \n",
       "4            ph3mI  Sun Jan 08 17:04:04 +0000 2017  telecom_1  "
      ]
     },
     "execution_count": 11,
     "metadata": {},
     "output_type": "execute_result"
    }
   ],
   "source": [
    "Twitter.head()"
   ]
  },
  {
   "cell_type": "code",
   "execution_count": 14,
   "metadata": {},
   "outputs": [
    {
     "data": {
      "text/html": [
       "<div>\n",
       "<style scoped>\n",
       "    .dataframe tbody tr th:only-of-type {\n",
       "        vertical-align: middle;\n",
       "    }\n",
       "\n",
       "    .dataframe tbody tr th {\n",
       "        vertical-align: top;\n",
       "    }\n",
       "\n",
       "    .dataframe thead th {\n",
       "        text-align: right;\n",
       "    }\n",
       "</style>\n",
       "<table border=\"1\" class=\"dataframe\">\n",
       "  <thead>\n",
       "    <tr style=\"text-align: right;\">\n",
       "      <th></th>\n",
       "      <th>tweet</th>\n",
       "      <th>word_count</th>\n",
       "    </tr>\n",
       "  </thead>\n",
       "  <tbody>\n",
       "    <tr>\n",
       "      <th>0</th>\n",
       "      <td>@ShanduPrint Hi Nkanyiso, we have replied to y...</td>\n",
       "      <td>11</td>\n",
       "    </tr>\n",
       "    <tr>\n",
       "      <th>1</th>\n",
       "      <td>@mamakaonke Hi Ms Dube, do you have the My Vod...</td>\n",
       "      <td>11</td>\n",
       "    </tr>\n",
       "    <tr>\n",
       "      <th>2</th>\n",
       "      <td>@Happydays4life1 Thank you for getting in touc...</td>\n",
       "      <td>21</td>\n",
       "    </tr>\n",
       "    <tr>\n",
       "      <th>3</th>\n",
       "      <td>@mike7white Hi Mike, our telephonic chat refer...</td>\n",
       "      <td>22</td>\n",
       "    </tr>\n",
       "    <tr>\n",
       "      <th>4</th>\n",
       "      <td>@ph3mi Hey, Omphe. Please give us more info so...</td>\n",
       "      <td>13</td>\n",
       "    </tr>\n",
       "  </tbody>\n",
       "</table>\n",
       "</div>"
      ],
      "text/plain": [
       "                                               tweet  word_count\n",
       "0  @ShanduPrint Hi Nkanyiso, we have replied to y...          11\n",
       "1  @mamakaonke Hi Ms Dube, do you have the My Vod...          11\n",
       "2  @Happydays4life1 Thank you for getting in touc...          21\n",
       "3  @mike7white Hi Mike, our telephonic chat refer...          22\n",
       "4  @ph3mi Hey, Omphe. Please give us more info so...          13"
      ]
     },
     "execution_count": 14,
     "metadata": {},
     "output_type": "execute_result"
    }
   ],
   "source": [
    "Twitter['word_count'] = Twitter['tweet'].apply(lambda x: len(str(x).split(\" \")))\n",
    "Twitter[['tweet','word_count']].head()"
   ]
  },
  {
   "cell_type": "code",
   "execution_count": 15,
   "metadata": {},
   "outputs": [
    {
     "data": {
      "text/html": [
       "<div>\n",
       "<style scoped>\n",
       "    .dataframe tbody tr th:only-of-type {\n",
       "        vertical-align: middle;\n",
       "    }\n",
       "\n",
       "    .dataframe tbody tr th {\n",
       "        vertical-align: top;\n",
       "    }\n",
       "\n",
       "    .dataframe thead th {\n",
       "        text-align: right;\n",
       "    }\n",
       "</style>\n",
       "<table border=\"1\" class=\"dataframe\">\n",
       "  <thead>\n",
       "    <tr style=\"text-align: right;\">\n",
       "      <th></th>\n",
       "      <th>tweet_id</th>\n",
       "      <th>tweet</th>\n",
       "      <th>in_reply_to</th>\n",
       "      <th>created_at</th>\n",
       "      <th>telecom</th>\n",
       "      <th>word_count</th>\n",
       "    </tr>\n",
       "  </thead>\n",
       "  <tbody>\n",
       "    <tr>\n",
       "      <th>0</th>\n",
       "      <td>9.932078e+17</td>\n",
       "      <td>@ShanduPrint Hi Nkanyiso, we have replied to y...</td>\n",
       "      <td>ShanduPrint</td>\n",
       "      <td>Sun May 06 19:16:00 +0000 2018</td>\n",
       "      <td>telecom_1</td>\n",
       "      <td>11</td>\n",
       "    </tr>\n",
       "    <tr>\n",
       "      <th>1</th>\n",
       "      <td>8.837385e+17</td>\n",
       "      <td>@mamakaonke Hi Ms Dube, do you have the My Vod...</td>\n",
       "      <td>MamaKaOnke</td>\n",
       "      <td>Sat Jul 08 17:24:17 +0000 2017</td>\n",
       "      <td>telecom_1</td>\n",
       "      <td>11</td>\n",
       "    </tr>\n",
       "    <tr>\n",
       "      <th>2</th>\n",
       "      <td>1.056968e+18</td>\n",
       "      <td>@Happydays4life1 Thank you for getting in touc...</td>\n",
       "      <td>Happydays4life1</td>\n",
       "      <td>Mon Oct 29 17:57:43 +0000 2018</td>\n",
       "      <td>telecom_1</td>\n",
       "      <td>21</td>\n",
       "    </tr>\n",
       "    <tr>\n",
       "      <th>3</th>\n",
       "      <td>4.351029e+17</td>\n",
       "      <td>@mike7white Hi Mike, our telephonic chat refer...</td>\n",
       "      <td>mike7white</td>\n",
       "      <td>Sun Feb 16 17:26:18 +0000 2014</td>\n",
       "      <td>telecom_1</td>\n",
       "      <td>22</td>\n",
       "    </tr>\n",
       "    <tr>\n",
       "      <th>4</th>\n",
       "      <td>8.181412e+17</td>\n",
       "      <td>@ph3mi Hey, Omphe. Please give us more info so...</td>\n",
       "      <td>ph3mI</td>\n",
       "      <td>Sun Jan 08 17:04:04 +0000 2017</td>\n",
       "      <td>telecom_1</td>\n",
       "      <td>13</td>\n",
       "    </tr>\n",
       "  </tbody>\n",
       "</table>\n",
       "</div>"
      ],
      "text/plain": [
       "       tweet_id                                              tweet  \\\n",
       "0  9.932078e+17  @ShanduPrint Hi Nkanyiso, we have replied to y...   \n",
       "1  8.837385e+17  @mamakaonke Hi Ms Dube, do you have the My Vod...   \n",
       "2  1.056968e+18  @Happydays4life1 Thank you for getting in touc...   \n",
       "3  4.351029e+17  @mike7white Hi Mike, our telephonic chat refer...   \n",
       "4  8.181412e+17  @ph3mi Hey, Omphe. Please give us more info so...   \n",
       "\n",
       "       in_reply_to                      created_at    telecom  word_count  \n",
       "0      ShanduPrint  Sun May 06 19:16:00 +0000 2018  telecom_1          11  \n",
       "1       MamaKaOnke  Sat Jul 08 17:24:17 +0000 2017  telecom_1          11  \n",
       "2  Happydays4life1  Mon Oct 29 17:57:43 +0000 2018  telecom_1          21  \n",
       "3       mike7white  Sun Feb 16 17:26:18 +0000 2014  telecom_1          22  \n",
       "4            ph3mI  Sun Jan 08 17:04:04 +0000 2017  telecom_1          13  "
      ]
     },
     "execution_count": 15,
     "metadata": {},
     "output_type": "execute_result"
    }
   ],
   "source": [
    "Twitter.head()"
   ]
  },
  {
   "cell_type": "code",
   "execution_count": 16,
   "metadata": {},
   "outputs": [
    {
     "data": {
      "text/html": [
       "<div>\n",
       "<style scoped>\n",
       "    .dataframe tbody tr th:only-of-type {\n",
       "        vertical-align: middle;\n",
       "    }\n",
       "\n",
       "    .dataframe tbody tr th {\n",
       "        vertical-align: top;\n",
       "    }\n",
       "\n",
       "    .dataframe thead th {\n",
       "        text-align: right;\n",
       "    }\n",
       "</style>\n",
       "<table border=\"1\" class=\"dataframe\">\n",
       "  <thead>\n",
       "    <tr style=\"text-align: right;\">\n",
       "      <th></th>\n",
       "      <th>tweet</th>\n",
       "      <th>char_count</th>\n",
       "    </tr>\n",
       "  </thead>\n",
       "  <tbody>\n",
       "    <tr>\n",
       "      <th>0</th>\n",
       "      <td>@ShanduPrint Hi Nkanyiso, we have replied to y...</td>\n",
       "      <td>65</td>\n",
       "    </tr>\n",
       "    <tr>\n",
       "      <th>1</th>\n",
       "      <td>@mamakaonke Hi Ms Dube, do you have the My Vod...</td>\n",
       "      <td>55</td>\n",
       "    </tr>\n",
       "    <tr>\n",
       "      <th>2</th>\n",
       "      <td>@Happydays4life1 Thank you for getting in touc...</td>\n",
       "      <td>119</td>\n",
       "    </tr>\n",
       "    <tr>\n",
       "      <th>3</th>\n",
       "      <td>@mike7white Hi Mike, our telephonic chat refer...</td>\n",
       "      <td>135</td>\n",
       "    </tr>\n",
       "    <tr>\n",
       "      <th>4</th>\n",
       "      <td>@ph3mi Hey, Omphe. Please give us more info so...</td>\n",
       "      <td>65</td>\n",
       "    </tr>\n",
       "  </tbody>\n",
       "</table>\n",
       "</div>"
      ],
      "text/plain": [
       "                                               tweet  char_count\n",
       "0  @ShanduPrint Hi Nkanyiso, we have replied to y...          65\n",
       "1  @mamakaonke Hi Ms Dube, do you have the My Vod...          55\n",
       "2  @Happydays4life1 Thank you for getting in touc...         119\n",
       "3  @mike7white Hi Mike, our telephonic chat refer...         135\n",
       "4  @ph3mi Hey, Omphe. Please give us more info so...          65"
      ]
     },
     "execution_count": 16,
     "metadata": {},
     "output_type": "execute_result"
    }
   ],
   "source": [
    "Twitter['char_count'] = Twitter['tweet'].str.len() ## this also includes spaces\n",
    "Twitter[['tweet','char_count']].head()"
   ]
  },
  {
   "cell_type": "code",
   "execution_count": 17,
   "metadata": {},
   "outputs": [],
   "source": [
    "def avg_word(sentence):\n",
    "  words = sentence.split()\n",
    "  return (sum(len(word) for word in words)/len(words))"
   ]
  },
  {
   "cell_type": "code",
   "execution_count": 18,
   "metadata": {},
   "outputs": [
    {
     "data": {
      "text/html": [
       "<div>\n",
       "<style scoped>\n",
       "    .dataframe tbody tr th:only-of-type {\n",
       "        vertical-align: middle;\n",
       "    }\n",
       "\n",
       "    .dataframe tbody tr th {\n",
       "        vertical-align: top;\n",
       "    }\n",
       "\n",
       "    .dataframe thead th {\n",
       "        text-align: right;\n",
       "    }\n",
       "</style>\n",
       "<table border=\"1\" class=\"dataframe\">\n",
       "  <thead>\n",
       "    <tr style=\"text-align: right;\">\n",
       "      <th></th>\n",
       "      <th>tweet</th>\n",
       "      <th>avg_word</th>\n",
       "    </tr>\n",
       "  </thead>\n",
       "  <tbody>\n",
       "    <tr>\n",
       "      <th>0</th>\n",
       "      <td>@ShanduPrint Hi Nkanyiso, we have replied to y...</td>\n",
       "      <td>5.000000</td>\n",
       "    </tr>\n",
       "    <tr>\n",
       "      <th>1</th>\n",
       "      <td>@mamakaonke Hi Ms Dube, do you have the My Vod...</td>\n",
       "      <td>4.090909</td>\n",
       "    </tr>\n",
       "    <tr>\n",
       "      <th>2</th>\n",
       "      <td>@Happydays4life1 Thank you for getting in touc...</td>\n",
       "      <td>4.714286</td>\n",
       "    </tr>\n",
       "    <tr>\n",
       "      <th>3</th>\n",
       "      <td>@mike7white Hi Mike, our telephonic chat refer...</td>\n",
       "      <td>5.181818</td>\n",
       "    </tr>\n",
       "    <tr>\n",
       "      <th>4</th>\n",
       "      <td>@ph3mi Hey, Omphe. Please give us more info so...</td>\n",
       "      <td>4.076923</td>\n",
       "    </tr>\n",
       "  </tbody>\n",
       "</table>\n",
       "</div>"
      ],
      "text/plain": [
       "                                               tweet  avg_word\n",
       "0  @ShanduPrint Hi Nkanyiso, we have replied to y...  5.000000\n",
       "1  @mamakaonke Hi Ms Dube, do you have the My Vod...  4.090909\n",
       "2  @Happydays4life1 Thank you for getting in touc...  4.714286\n",
       "3  @mike7white Hi Mike, our telephonic chat refer...  5.181818\n",
       "4  @ph3mi Hey, Omphe. Please give us more info so...  4.076923"
      ]
     },
     "execution_count": 18,
     "metadata": {},
     "output_type": "execute_result"
    }
   ],
   "source": [
    "Twitter['avg_word'] = Twitter['tweet'].apply(lambda x: avg_word(x))\n",
    "Twitter[['tweet','avg_word']].head()"
   ]
  },
  {
   "cell_type": "code",
   "execution_count": 19,
   "metadata": {},
   "outputs": [],
   "source": [
    "from nltk.corpus import stopwords\n",
    "stop = stopwords.words('english')"
   ]
  },
  {
   "cell_type": "code",
   "execution_count": 20,
   "metadata": {},
   "outputs": [
    {
     "data": {
      "text/html": [
       "<div>\n",
       "<style scoped>\n",
       "    .dataframe tbody tr th:only-of-type {\n",
       "        vertical-align: middle;\n",
       "    }\n",
       "\n",
       "    .dataframe tbody tr th {\n",
       "        vertical-align: top;\n",
       "    }\n",
       "\n",
       "    .dataframe thead th {\n",
       "        text-align: right;\n",
       "    }\n",
       "</style>\n",
       "<table border=\"1\" class=\"dataframe\">\n",
       "  <thead>\n",
       "    <tr style=\"text-align: right;\">\n",
       "      <th></th>\n",
       "      <th>tweet</th>\n",
       "      <th>stopwords</th>\n",
       "    </tr>\n",
       "  </thead>\n",
       "  <tbody>\n",
       "    <tr>\n",
       "      <th>0</th>\n",
       "      <td>@ShanduPrint Hi Nkanyiso, we have replied to y...</td>\n",
       "      <td>4</td>\n",
       "    </tr>\n",
       "    <tr>\n",
       "      <th>1</th>\n",
       "      <td>@mamakaonke Hi Ms Dube, do you have the My Vod...</td>\n",
       "      <td>4</td>\n",
       "    </tr>\n",
       "    <tr>\n",
       "      <th>2</th>\n",
       "      <td>@Happydays4life1 Thank you for getting in touc...</td>\n",
       "      <td>10</td>\n",
       "    </tr>\n",
       "    <tr>\n",
       "      <th>3</th>\n",
       "      <td>@mike7white Hi Mike, our telephonic chat refer...</td>\n",
       "      <td>8</td>\n",
       "    </tr>\n",
       "    <tr>\n",
       "      <th>4</th>\n",
       "      <td>@ph3mi Hey, Omphe. Please give us more info so...</td>\n",
       "      <td>4</td>\n",
       "    </tr>\n",
       "  </tbody>\n",
       "</table>\n",
       "</div>"
      ],
      "text/plain": [
       "                                               tweet  stopwords\n",
       "0  @ShanduPrint Hi Nkanyiso, we have replied to y...          4\n",
       "1  @mamakaonke Hi Ms Dube, do you have the My Vod...          4\n",
       "2  @Happydays4life1 Thank you for getting in touc...         10\n",
       "3  @mike7white Hi Mike, our telephonic chat refer...          8\n",
       "4  @ph3mi Hey, Omphe. Please give us more info so...          4"
      ]
     },
     "execution_count": 20,
     "metadata": {},
     "output_type": "execute_result"
    }
   ],
   "source": [
    "Twitter['stopwords'] = Twitter['tweet'].apply(lambda x: len([x for x in x.split() if x in stop]))\n",
    "Twitter[['tweet','stopwords']].head()"
   ]
  },
  {
   "cell_type": "code",
   "execution_count": 21,
   "metadata": {},
   "outputs": [],
   "source": [
    "Twitter['hastags'] = Twitter['tweet'].apply(lambda x: len([x for x in x.split() if x.startswith('#')]))"
   ]
  },
  {
   "cell_type": "code",
   "execution_count": 22,
   "metadata": {},
   "outputs": [
    {
     "data": {
      "text/html": [
       "<div>\n",
       "<style scoped>\n",
       "    .dataframe tbody tr th:only-of-type {\n",
       "        vertical-align: middle;\n",
       "    }\n",
       "\n",
       "    .dataframe tbody tr th {\n",
       "        vertical-align: top;\n",
       "    }\n",
       "\n",
       "    .dataframe thead th {\n",
       "        text-align: right;\n",
       "    }\n",
       "</style>\n",
       "<table border=\"1\" class=\"dataframe\">\n",
       "  <thead>\n",
       "    <tr style=\"text-align: right;\">\n",
       "      <th></th>\n",
       "      <th>tweet</th>\n",
       "      <th>hastags</th>\n",
       "    </tr>\n",
       "  </thead>\n",
       "  <tbody>\n",
       "    <tr>\n",
       "      <th>0</th>\n",
       "      <td>@ShanduPrint Hi Nkanyiso, we have replied to y...</td>\n",
       "      <td>0</td>\n",
       "    </tr>\n",
       "    <tr>\n",
       "      <th>1</th>\n",
       "      <td>@mamakaonke Hi Ms Dube, do you have the My Vod...</td>\n",
       "      <td>0</td>\n",
       "    </tr>\n",
       "    <tr>\n",
       "      <th>2</th>\n",
       "      <td>@Happydays4life1 Thank you for getting in touc...</td>\n",
       "      <td>0</td>\n",
       "    </tr>\n",
       "    <tr>\n",
       "      <th>3</th>\n",
       "      <td>@mike7white Hi Mike, our telephonic chat refer...</td>\n",
       "      <td>0</td>\n",
       "    </tr>\n",
       "    <tr>\n",
       "      <th>4</th>\n",
       "      <td>@ph3mi Hey, Omphe. Please give us more info so...</td>\n",
       "      <td>0</td>\n",
       "    </tr>\n",
       "  </tbody>\n",
       "</table>\n",
       "</div>"
      ],
      "text/plain": [
       "                                               tweet  hastags\n",
       "0  @ShanduPrint Hi Nkanyiso, we have replied to y...        0\n",
       "1  @mamakaonke Hi Ms Dube, do you have the My Vod...        0\n",
       "2  @Happydays4life1 Thank you for getting in touc...        0\n",
       "3  @mike7white Hi Mike, our telephonic chat refer...        0\n",
       "4  @ph3mi Hey, Omphe. Please give us more info so...        0"
      ]
     },
     "execution_count": 22,
     "metadata": {},
     "output_type": "execute_result"
    }
   ],
   "source": [
    "Twitter[['tweet','hastags']].head()"
   ]
  },
  {
   "cell_type": "code",
   "execution_count": 23,
   "metadata": {},
   "outputs": [
    {
     "data": {
      "text/html": [
       "<div>\n",
       "<style scoped>\n",
       "    .dataframe tbody tr th:only-of-type {\n",
       "        vertical-align: middle;\n",
       "    }\n",
       "\n",
       "    .dataframe tbody tr th {\n",
       "        vertical-align: top;\n",
       "    }\n",
       "\n",
       "    .dataframe thead th {\n",
       "        text-align: right;\n",
       "    }\n",
       "</style>\n",
       "<table border=\"1\" class=\"dataframe\">\n",
       "  <thead>\n",
       "    <tr style=\"text-align: right;\">\n",
       "      <th></th>\n",
       "      <th>tweet</th>\n",
       "      <th>numerics</th>\n",
       "    </tr>\n",
       "  </thead>\n",
       "  <tbody>\n",
       "    <tr>\n",
       "      <th>0</th>\n",
       "      <td>@ShanduPrint Hi Nkanyiso, we have replied to y...</td>\n",
       "      <td>0</td>\n",
       "    </tr>\n",
       "    <tr>\n",
       "      <th>1</th>\n",
       "      <td>@mamakaonke Hi Ms Dube, do you have the My Vod...</td>\n",
       "      <td>0</td>\n",
       "    </tr>\n",
       "    <tr>\n",
       "      <th>2</th>\n",
       "      <td>@Happydays4life1 Thank you for getting in touc...</td>\n",
       "      <td>0</td>\n",
       "    </tr>\n",
       "    <tr>\n",
       "      <th>3</th>\n",
       "      <td>@mike7white Hi Mike, our telephonic chat refer...</td>\n",
       "      <td>0</td>\n",
       "    </tr>\n",
       "    <tr>\n",
       "      <th>4</th>\n",
       "      <td>@ph3mi Hey, Omphe. Please give us more info so...</td>\n",
       "      <td>0</td>\n",
       "    </tr>\n",
       "  </tbody>\n",
       "</table>\n",
       "</div>"
      ],
      "text/plain": [
       "                                               tweet  numerics\n",
       "0  @ShanduPrint Hi Nkanyiso, we have replied to y...         0\n",
       "1  @mamakaonke Hi Ms Dube, do you have the My Vod...         0\n",
       "2  @Happydays4life1 Thank you for getting in touc...         0\n",
       "3  @mike7white Hi Mike, our telephonic chat refer...         0\n",
       "4  @ph3mi Hey, Omphe. Please give us more info so...         0"
      ]
     },
     "execution_count": 23,
     "metadata": {},
     "output_type": "execute_result"
    }
   ],
   "source": [
    "Twitter['numerics'] = Twitter['tweet'].apply(lambda x: len([x for x in x.split() if x.isdigit()]))\n",
    "Twitter[['tweet','numerics']].head()"
   ]
  },
  {
   "cell_type": "code",
   "execution_count": 24,
   "metadata": {},
   "outputs": [
    {
     "data": {
      "text/html": [
       "<div>\n",
       "<style scoped>\n",
       "    .dataframe tbody tr th:only-of-type {\n",
       "        vertical-align: middle;\n",
       "    }\n",
       "\n",
       "    .dataframe tbody tr th {\n",
       "        vertical-align: top;\n",
       "    }\n",
       "\n",
       "    .dataframe thead th {\n",
       "        text-align: right;\n",
       "    }\n",
       "</style>\n",
       "<table border=\"1\" class=\"dataframe\">\n",
       "  <thead>\n",
       "    <tr style=\"text-align: right;\">\n",
       "      <th></th>\n",
       "      <th>tweet</th>\n",
       "      <th>upper</th>\n",
       "    </tr>\n",
       "  </thead>\n",
       "  <tbody>\n",
       "    <tr>\n",
       "      <th>0</th>\n",
       "      <td>@ShanduPrint Hi Nkanyiso, we have replied to y...</td>\n",
       "      <td>1</td>\n",
       "    </tr>\n",
       "    <tr>\n",
       "      <th>1</th>\n",
       "      <td>@mamakaonke Hi Ms Dube, do you have the My Vod...</td>\n",
       "      <td>0</td>\n",
       "    </tr>\n",
       "    <tr>\n",
       "      <th>2</th>\n",
       "      <td>@Happydays4life1 Thank you for getting in touc...</td>\n",
       "      <td>0</td>\n",
       "    </tr>\n",
       "    <tr>\n",
       "      <th>3</th>\n",
       "      <td>@mike7white Hi Mike, our telephonic chat refer...</td>\n",
       "      <td>3</td>\n",
       "    </tr>\n",
       "    <tr>\n",
       "      <th>4</th>\n",
       "      <td>@ph3mi Hey, Omphe. Please give us more info so...</td>\n",
       "      <td>0</td>\n",
       "    </tr>\n",
       "  </tbody>\n",
       "</table>\n",
       "</div>"
      ],
      "text/plain": [
       "                                               tweet  upper\n",
       "0  @ShanduPrint Hi Nkanyiso, we have replied to y...      1\n",
       "1  @mamakaonke Hi Ms Dube, do you have the My Vod...      0\n",
       "2  @Happydays4life1 Thank you for getting in touc...      0\n",
       "3  @mike7white Hi Mike, our telephonic chat refer...      3\n",
       "4  @ph3mi Hey, Omphe. Please give us more info so...      0"
      ]
     },
     "execution_count": 24,
     "metadata": {},
     "output_type": "execute_result"
    }
   ],
   "source": [
    "Twitter['upper'] = Twitter['tweet'].apply(lambda x: len([x for x in x.split() if x.isupper()]))\n",
    "Twitter[['tweet','upper']].head()"
   ]
  },
  {
   "cell_type": "code",
   "execution_count": 25,
   "metadata": {},
   "outputs": [
    {
     "data": {
      "text/plain": [
       "0    @shanduprint hi nkanyiso, we have replied to y...\n",
       "1    @mamakaonke hi ms dube, do you have the my vod...\n",
       "2    @happydays4life1 thank you for getting in touc...\n",
       "3    @mike7white hi mike, our telephonic chat refer...\n",
       "4    @ph3mi hey, omphe. please give us more info so...\n",
       "Name: tweet, dtype: object"
      ]
     },
     "execution_count": 25,
     "metadata": {},
     "output_type": "execute_result"
    }
   ],
   "source": [
    "Twitter['tweet'] = Twitter['tweet'].apply(lambda x: \" \".join(x.lower() for x in x.split()))\n",
    "Twitter['tweet'].head()"
   ]
  },
  {
   "cell_type": "code",
   "execution_count": 26,
   "metadata": {},
   "outputs": [
    {
     "data": {
      "text/plain": [
       "0    shanduprint hi nkanyiso we have replied to you...\n",
       "1    mamakaonke hi ms dube do you have the my vodac...\n",
       "2    happydays4life1 thank you for getting in touch...\n",
       "3    mike7white hi mike our telephonic chat refers ...\n",
       "4    ph3mi hey omphe please give us more info so we...\n",
       "Name: tweet, dtype: object"
      ]
     },
     "execution_count": 26,
     "metadata": {},
     "output_type": "execute_result"
    }
   ],
   "source": [
    "Twitter['tweet'] = Twitter['tweet'].str.replace('[^\\w\\s]','')\n",
    "Twitter['tweet'].head()"
   ]
  },
  {
   "cell_type": "code",
   "execution_count": 27,
   "metadata": {},
   "outputs": [
    {
     "data": {
      "text/plain": [
       "0        shanduprint hi nkanyiso replied post via dmcn\n",
       "1                    mamakaonke hi ms dube vodacom app\n",
       "2    happydays4life1 thank getting touch us please ...\n",
       "3    mike7white hi mike telephonic chat refers veri...\n",
       "4           ph3mi hey omphe please give us info assist\n",
       "Name: tweet, dtype: object"
      ]
     },
     "execution_count": 27,
     "metadata": {},
     "output_type": "execute_result"
    }
   ],
   "source": [
    "Twitter['tweet'] = Twitter['tweet'].apply(lambda x: \" \".join(x for x in x.split() if x not in stop))\n",
    "Twitter['tweet'].head()"
   ]
  },
  {
   "cell_type": "code",
   "execution_count": 28,
   "metadata": {},
   "outputs": [
    {
     "data": {
      "text/plain": [
       "hi         561500\n",
       "please     355667\n",
       "us         274894\n",
       "dm         227267\n",
       "number     220345\n",
       "contact    145301\n",
       "assist     123966\n",
       "team       109263\n",
       "details     79815\n",
       "query       77786\n",
       "dtype: int64"
      ]
     },
     "execution_count": 28,
     "metadata": {},
     "output_type": "execute_result"
    }
   ],
   "source": [
    "freq = pd.Series(' '.join(Twitter['tweet']).split()).value_counts()[:10]\n",
    "freq"
   ]
  },
  {
   "cell_type": "code",
   "execution_count": 29,
   "metadata": {},
   "outputs": [
    {
     "data": {
      "text/plain": [
       "0           shanduprint nkanyiso replied post via dmcn\n",
       "1                       mamakaonke ms dube vodacom app\n",
       "2    happydays4life1 thank getting touch elaborate ...\n",
       "3    mike7white mike telephonic chat refers verifie...\n",
       "4                            ph3mi hey omphe give info\n",
       "Name: tweet, dtype: object"
      ]
     },
     "execution_count": 29,
     "metadata": {},
     "output_type": "execute_result"
    }
   ],
   "source": [
    "freq = list(freq.index)\n",
    "Twitter['tweet'] = Twitter['tweet'].apply(lambda x: \" \".join(x for x in x.split() if x not in freq))\n",
    "Twitter['tweet'].head()"
   ]
  },
  {
   "cell_type": "code",
   "execution_count": 30,
   "metadata": {},
   "outputs": [
    {
     "data": {
      "text/plain": [
       "0            shanduprint nkanyiso replied post via man\n",
       "1                         mamakaonke ms due vodacom pp\n",
       "2    happydays4life1 thank getting touch elaborate ...\n",
       "3    mike7white mike telephone chat refers verified...\n",
       "4                            ph3mi hey ample give into\n",
       "Name: tweet, dtype: object"
      ]
     },
     "execution_count": 30,
     "metadata": {},
     "output_type": "execute_result"
    }
   ],
   "source": [
    "from textblob import TextBlob\n",
    "Twitter['tweet'][:5].apply(lambda x: str(TextBlob(x).correct()))"
   ]
  },
  {
   "cell_type": "code",
   "execution_count": 31,
   "metadata": {},
   "outputs": [
    {
     "data": {
      "text/plain": [
       "WordList(['mamakaonke', 'ms', 'dube', 'vodacom', 'app'])"
      ]
     },
     "execution_count": 31,
     "metadata": {},
     "output_type": "execute_result"
    }
   ],
   "source": [
    "TextBlob(Twitter['tweet'][1]).words"
   ]
  },
  {
   "cell_type": "code",
   "execution_count": 32,
   "metadata": {},
   "outputs": [
    {
     "data": {
      "text/plain": [
       "0             shanduprint nkanyiso repli post via dmcn\n",
       "1                        mamakaonk ms dube vodacom app\n",
       "2    happydays4life1 thank get touch elabor reason ...\n",
       "3    mike7whit mike telephon chat refer verifi acco...\n",
       "4                             ph3mi hey omph give info\n",
       "Name: tweet, dtype: object"
      ]
     },
     "execution_count": 32,
     "metadata": {},
     "output_type": "execute_result"
    }
   ],
   "source": [
    "from nltk.stem import PorterStemmer\n",
    "st = PorterStemmer()\n",
    "Twitter['tweet'][:5].apply(lambda x: \" \".join([st.stem(word) for word in x.split()]))"
   ]
  },
  {
   "cell_type": "code",
   "execution_count": 33,
   "metadata": {},
   "outputs": [
    {
     "data": {
      "text/plain": [
       "0           shanduprint nkanyiso replied post via dmcn\n",
       "1                        mamakaonke m dube vodacom app\n",
       "2    happydays4life1 thank getting touch elaborate ...\n",
       "3    mike7white mike telephonic chat refers verifie...\n",
       "4                            ph3mi hey omphe give info\n",
       "Name: tweet, dtype: object"
      ]
     },
     "execution_count": 33,
     "metadata": {},
     "output_type": "execute_result"
    }
   ],
   "source": [
    "from textblob import Word\n",
    "Twitter['tweet'] = Twitter['tweet'].apply(lambda x: \" \".join([Word(word).lemmatize() for word in x.split()]))\n",
    "Twitter['tweet'].head()"
   ]
  },
  {
   "cell_type": "code",
   "execution_count": 34,
   "metadata": {},
   "outputs": [
    {
     "data": {
      "text/plain": [
       "[WordList(['shanduprint', 'nkanyiso']),\n",
       " WordList(['nkanyiso', 'replied']),\n",
       " WordList(['replied', 'post']),\n",
       " WordList(['post', 'via']),\n",
       " WordList(['via', 'dmcn'])]"
      ]
     },
     "execution_count": 34,
     "metadata": {},
     "output_type": "execute_result"
    }
   ],
   "source": [
    "TextBlob(Twitter['tweet'][0]).ngrams(2)"
   ]
  },
  {
   "cell_type": "code",
   "execution_count": 35,
   "metadata": {},
   "outputs": [
    {
     "data": {
      "text/html": [
       "<div>\n",
       "<style scoped>\n",
       "    .dataframe tbody tr th:only-of-type {\n",
       "        vertical-align: middle;\n",
       "    }\n",
       "\n",
       "    .dataframe tbody tr th {\n",
       "        vertical-align: top;\n",
       "    }\n",
       "\n",
       "    .dataframe thead th {\n",
       "        text-align: right;\n",
       "    }\n",
       "</style>\n",
       "<table border=\"1\" class=\"dataframe\">\n",
       "  <thead>\n",
       "    <tr style=\"text-align: right;\">\n",
       "      <th></th>\n",
       "      <th>words</th>\n",
       "      <th>tf</th>\n",
       "    </tr>\n",
       "  </thead>\n",
       "  <tbody>\n",
       "    <tr>\n",
       "      <th>0</th>\n",
       "      <td>vodacom</td>\n",
       "      <td>1</td>\n",
       "    </tr>\n",
       "    <tr>\n",
       "      <th>1</th>\n",
       "      <td>m</td>\n",
       "      <td>1</td>\n",
       "    </tr>\n",
       "    <tr>\n",
       "      <th>2</th>\n",
       "      <td>dube</td>\n",
       "      <td>1</td>\n",
       "    </tr>\n",
       "    <tr>\n",
       "      <th>3</th>\n",
       "      <td>mamakaonke</td>\n",
       "      <td>1</td>\n",
       "    </tr>\n",
       "    <tr>\n",
       "      <th>4</th>\n",
       "      <td>app</td>\n",
       "      <td>1</td>\n",
       "    </tr>\n",
       "  </tbody>\n",
       "</table>\n",
       "</div>"
      ],
      "text/plain": [
       "        words  tf\n",
       "0     vodacom   1\n",
       "1           m   1\n",
       "2        dube   1\n",
       "3  mamakaonke   1\n",
       "4         app   1"
      ]
     },
     "execution_count": 35,
     "metadata": {},
     "output_type": "execute_result"
    }
   ],
   "source": [
    "tf1 = (Twitter['tweet'][1:2]).apply(lambda x: pd.value_counts(x.split(\" \"))).sum(axis = 0).reset_index()\n",
    "tf1.columns = ['words','tf']\n",
    "tf1"
   ]
  },
  {
   "cell_type": "code",
   "execution_count": 37,
   "metadata": {},
   "outputs": [],
   "source": [
    "import numpy as np"
   ]
  },
  {
   "cell_type": "code",
   "execution_count": 39,
   "metadata": {},
   "outputs": [
    {
     "data": {
      "text/html": [
       "<div>\n",
       "<style scoped>\n",
       "    .dataframe tbody tr th:only-of-type {\n",
       "        vertical-align: middle;\n",
       "    }\n",
       "\n",
       "    .dataframe tbody tr th {\n",
       "        vertical-align: top;\n",
       "    }\n",
       "\n",
       "    .dataframe thead th {\n",
       "        text-align: right;\n",
       "    }\n",
       "</style>\n",
       "<table border=\"1\" class=\"dataframe\">\n",
       "  <thead>\n",
       "    <tr style=\"text-align: right;\">\n",
       "      <th></th>\n",
       "      <th>words</th>\n",
       "      <th>tf</th>\n",
       "      <th>idf</th>\n",
       "    </tr>\n",
       "  </thead>\n",
       "  <tbody>\n",
       "    <tr>\n",
       "      <th>0</th>\n",
       "      <td>vodacom</td>\n",
       "      <td>1</td>\n",
       "      <td>2.673987</td>\n",
       "    </tr>\n",
       "    <tr>\n",
       "      <th>1</th>\n",
       "      <td>m</td>\n",
       "      <td>1</td>\n",
       "      <td>0.235626</td>\n",
       "    </tr>\n",
       "    <tr>\n",
       "      <th>2</th>\n",
       "      <td>dube</td>\n",
       "      <td>1</td>\n",
       "      <td>7.281627</td>\n",
       "    </tr>\n",
       "    <tr>\n",
       "      <th>3</th>\n",
       "      <td>mamakaonke</td>\n",
       "      <td>1</td>\n",
       "      <td>11.613556</td>\n",
       "    </tr>\n",
       "    <tr>\n",
       "      <th>4</th>\n",
       "      <td>app</td>\n",
       "      <td>1</td>\n",
       "      <td>2.882866</td>\n",
       "    </tr>\n",
       "  </tbody>\n",
       "</table>\n",
       "</div>"
      ],
      "text/plain": [
       "        words  tf        idf\n",
       "0     vodacom   1   2.673987\n",
       "1           m   1   0.235626\n",
       "2        dube   1   7.281627\n",
       "3  mamakaonke   1  11.613556\n",
       "4         app   1   2.882866"
      ]
     },
     "execution_count": 39,
     "metadata": {},
     "output_type": "execute_result"
    }
   ],
   "source": [
    "for i,word in enumerate(tf1['words']):\n",
    "    tf1.loc[i, 'idf'] = np.log(Twitter.shape[0]/(len(Twitter[Twitter['tweet'].str.contains(word)])))\n",
    "\n",
    "tf1"
   ]
  },
  {
   "cell_type": "code",
   "execution_count": 40,
   "metadata": {},
   "outputs": [
    {
     "data": {
      "text/html": [
       "<div>\n",
       "<style scoped>\n",
       "    .dataframe tbody tr th:only-of-type {\n",
       "        vertical-align: middle;\n",
       "    }\n",
       "\n",
       "    .dataframe tbody tr th {\n",
       "        vertical-align: top;\n",
       "    }\n",
       "\n",
       "    .dataframe thead th {\n",
       "        text-align: right;\n",
       "    }\n",
       "</style>\n",
       "<table border=\"1\" class=\"dataframe\">\n",
       "  <thead>\n",
       "    <tr style=\"text-align: right;\">\n",
       "      <th></th>\n",
       "      <th>words</th>\n",
       "      <th>tf</th>\n",
       "      <th>idf</th>\n",
       "      <th>tfidf</th>\n",
       "    </tr>\n",
       "  </thead>\n",
       "  <tbody>\n",
       "    <tr>\n",
       "      <th>0</th>\n",
       "      <td>vodacom</td>\n",
       "      <td>1</td>\n",
       "      <td>2.673987</td>\n",
       "      <td>2.673987</td>\n",
       "    </tr>\n",
       "    <tr>\n",
       "      <th>1</th>\n",
       "      <td>m</td>\n",
       "      <td>1</td>\n",
       "      <td>0.235626</td>\n",
       "      <td>0.235626</td>\n",
       "    </tr>\n",
       "    <tr>\n",
       "      <th>2</th>\n",
       "      <td>dube</td>\n",
       "      <td>1</td>\n",
       "      <td>7.281627</td>\n",
       "      <td>7.281627</td>\n",
       "    </tr>\n",
       "    <tr>\n",
       "      <th>3</th>\n",
       "      <td>mamakaonke</td>\n",
       "      <td>1</td>\n",
       "      <td>11.613556</td>\n",
       "      <td>11.613556</td>\n",
       "    </tr>\n",
       "    <tr>\n",
       "      <th>4</th>\n",
       "      <td>app</td>\n",
       "      <td>1</td>\n",
       "      <td>2.882866</td>\n",
       "      <td>2.882866</td>\n",
       "    </tr>\n",
       "  </tbody>\n",
       "</table>\n",
       "</div>"
      ],
      "text/plain": [
       "        words  tf        idf      tfidf\n",
       "0     vodacom   1   2.673987   2.673987\n",
       "1           m   1   0.235626   0.235626\n",
       "2        dube   1   7.281627   7.281627\n",
       "3  mamakaonke   1  11.613556  11.613556\n",
       "4         app   1   2.882866   2.882866"
      ]
     },
     "execution_count": 40,
     "metadata": {},
     "output_type": "execute_result"
    }
   ],
   "source": [
    "tf1['tfidf'] = tf1['tf'] * tf1['idf']\n",
    "tf1"
   ]
  },
  {
   "cell_type": "code",
   "execution_count": 41,
   "metadata": {},
   "outputs": [
    {
     "data": {
      "text/plain": [
       "<1216455x1000 sparse matrix of type '<class 'numpy.int64'>'\n",
       "\twith 6114077 stored elements in Compressed Sparse Row format>"
      ]
     },
     "execution_count": 41,
     "metadata": {},
     "output_type": "execute_result"
    }
   ],
   "source": [
    "from sklearn.feature_extraction.text import CountVectorizer\n",
    "bow = CountVectorizer(max_features=1000, lowercase=True, ngram_range=(1,1),analyzer = \"word\")\n",
    "train_bow = bow.fit_transform(Twitter['tweet'])\n",
    "train_bow"
   ]
  },
  {
   "cell_type": "code",
   "execution_count": 42,
   "metadata": {},
   "outputs": [
    {
     "data": {
      "text/plain": [
       "0    (0.0, 0.0)\n",
       "1    (0.0, 0.0)\n",
       "2    (0.5, 1.0)\n",
       "3    (0.4, 1.0)\n",
       "4    (0.0, 0.0)\n",
       "Name: tweet, dtype: object"
      ]
     },
     "execution_count": 42,
     "metadata": {},
     "output_type": "execute_result"
    }
   ],
   "source": [
    "Twitter['tweet'][:5].apply(lambda x: TextBlob(x).sentiment)"
   ]
  },
  {
   "cell_type": "code",
   "execution_count": 43,
   "metadata": {},
   "outputs": [
    {
     "data": {
      "text/html": [
       "<div>\n",
       "<style scoped>\n",
       "    .dataframe tbody tr th:only-of-type {\n",
       "        vertical-align: middle;\n",
       "    }\n",
       "\n",
       "    .dataframe tbody tr th {\n",
       "        vertical-align: top;\n",
       "    }\n",
       "\n",
       "    .dataframe thead th {\n",
       "        text-align: right;\n",
       "    }\n",
       "</style>\n",
       "<table border=\"1\" class=\"dataframe\">\n",
       "  <thead>\n",
       "    <tr style=\"text-align: right;\">\n",
       "      <th></th>\n",
       "      <th>tweet</th>\n",
       "      <th>sentiment</th>\n",
       "    </tr>\n",
       "  </thead>\n",
       "  <tbody>\n",
       "    <tr>\n",
       "      <th>0</th>\n",
       "      <td>shanduprint nkanyiso replied post via dmcn</td>\n",
       "      <td>0.0</td>\n",
       "    </tr>\n",
       "    <tr>\n",
       "      <th>1</th>\n",
       "      <td>mamakaonke m dube vodacom app</td>\n",
       "      <td>0.0</td>\n",
       "    </tr>\n",
       "    <tr>\n",
       "      <th>2</th>\n",
       "      <td>happydays4life1 thank getting touch elaborate ...</td>\n",
       "      <td>0.5</td>\n",
       "    </tr>\n",
       "    <tr>\n",
       "      <th>3</th>\n",
       "      <td>mike7white mike telephonic chat refers verifie...</td>\n",
       "      <td>0.4</td>\n",
       "    </tr>\n",
       "    <tr>\n",
       "      <th>4</th>\n",
       "      <td>ph3mi hey omphe give info</td>\n",
       "      <td>0.0</td>\n",
       "    </tr>\n",
       "  </tbody>\n",
       "</table>\n",
       "</div>"
      ],
      "text/plain": [
       "                                               tweet  sentiment\n",
       "0         shanduprint nkanyiso replied post via dmcn        0.0\n",
       "1                      mamakaonke m dube vodacom app        0.0\n",
       "2  happydays4life1 thank getting touch elaborate ...        0.5\n",
       "3  mike7white mike telephonic chat refers verifie...        0.4\n",
       "4                          ph3mi hey omphe give info        0.0"
      ]
     },
     "execution_count": 43,
     "metadata": {},
     "output_type": "execute_result"
    }
   ],
   "source": [
    "Twitter['sentiment'] = Twitter['tweet'].apply(lambda x: TextBlob(x).sentiment[0] )\n",
    "Twitter[['tweet','sentiment']].head()"
   ]
  },
  {
   "cell_type": "code",
   "execution_count": 44,
   "metadata": {},
   "outputs": [
    {
     "data": {
      "text/html": [
       "<div>\n",
       "<style scoped>\n",
       "    .dataframe tbody tr th:only-of-type {\n",
       "        vertical-align: middle;\n",
       "    }\n",
       "\n",
       "    .dataframe tbody tr th {\n",
       "        vertical-align: top;\n",
       "    }\n",
       "\n",
       "    .dataframe thead th {\n",
       "        text-align: right;\n",
       "    }\n",
       "</style>\n",
       "<table border=\"1\" class=\"dataframe\">\n",
       "  <thead>\n",
       "    <tr style=\"text-align: right;\">\n",
       "      <th></th>\n",
       "      <th>tweet</th>\n",
       "      <th>sentiment</th>\n",
       "      <th>telecom</th>\n",
       "    </tr>\n",
       "  </thead>\n",
       "  <tbody>\n",
       "    <tr>\n",
       "      <th>0</th>\n",
       "      <td>shanduprint nkanyiso replied post via dmcn</td>\n",
       "      <td>0.0</td>\n",
       "      <td>telecom_1</td>\n",
       "    </tr>\n",
       "    <tr>\n",
       "      <th>1</th>\n",
       "      <td>mamakaonke m dube vodacom app</td>\n",
       "      <td>0.0</td>\n",
       "      <td>telecom_1</td>\n",
       "    </tr>\n",
       "    <tr>\n",
       "      <th>2</th>\n",
       "      <td>happydays4life1 thank getting touch elaborate ...</td>\n",
       "      <td>0.5</td>\n",
       "      <td>telecom_1</td>\n",
       "    </tr>\n",
       "    <tr>\n",
       "      <th>3</th>\n",
       "      <td>mike7white mike telephonic chat refers verifie...</td>\n",
       "      <td>0.4</td>\n",
       "      <td>telecom_1</td>\n",
       "    </tr>\n",
       "    <tr>\n",
       "      <th>4</th>\n",
       "      <td>ph3mi hey omphe give info</td>\n",
       "      <td>0.0</td>\n",
       "      <td>telecom_1</td>\n",
       "    </tr>\n",
       "  </tbody>\n",
       "</table>\n",
       "</div>"
      ],
      "text/plain": [
       "                                               tweet  sentiment    telecom\n",
       "0         shanduprint nkanyiso replied post via dmcn        0.0  telecom_1\n",
       "1                      mamakaonke m dube vodacom app        0.0  telecom_1\n",
       "2  happydays4life1 thank getting touch elaborate ...        0.5  telecom_1\n",
       "3  mike7white mike telephonic chat refers verifie...        0.4  telecom_1\n",
       "4                          ph3mi hey omphe give info        0.0  telecom_1"
      ]
     },
     "execution_count": 44,
     "metadata": {},
     "output_type": "execute_result"
    }
   ],
   "source": [
    "Twitter[['tweet','sentiment','telecom']].head()"
   ]
  },
  {
   "cell_type": "code",
   "execution_count": 45,
   "metadata": {},
   "outputs": [],
   "source": [
    "import seaborn as sns"
   ]
  },
  {
   "cell_type": "code",
   "execution_count": 50,
   "metadata": {},
   "outputs": [],
   "source": [
    "import matplotlib.pyplot as plt"
   ]
  },
  {
   "cell_type": "code",
   "execution_count": 58,
   "metadata": {},
   "outputs": [
    {
     "data": {
      "image/png": "[encoded data removed]",
      "text/plain": [
       "<matplotlib.figure.Figure at 0x1a61615668>"
      ]
     },
     "metadata": {},
     "output_type": "display_data"
    }
   ],
   "source": [
    "a4_dims = (15, 8)\n",
    "fig, ax = plt.subplots(figsize=a4_dims)\n",
    "sns.boxplot(x=\"telecom\", y=\"sentiment\", data=Twitter, linewidth=2.5, ax=ax)\n",
    "ax.set_title('Sentiment per Telecom',fontsize=20)\n",
    "plt.show()\n"
   ]
  },
  {
   "cell_type": "code",
   "execution_count": null,
   "metadata": {},
   "outputs": [],
   "source": []
  }
 ],
 "metadata": {
  "kernelspec": {
   "display_name": "Python 3",
   "language": "python",
   "name": "python3"
  },
  "language_info": {
   "codemirror_mode": {
    "name": "ipython",
    "version": 3
   },
   "file_extension": ".py",
   "mimetype": "text/x-python",
   "name": "python",
   "nbconvert_exporter": "python",
   "pygments_lexer": "ipython3",
   "version": "3.6.4"
  }
 },
 "nbformat": 4,
 "nbformat_minor": 2
}
